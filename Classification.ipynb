{
 "cells": [
  {
   "cell_type": "code",
   "execution_count": 1,
   "id": "557c3fef",
   "metadata": {},
   "outputs": [
    {
     "name": "stdout",
     "output_type": "stream",
     "text": [
      "2021-08-12 22:53:25,564 loading file C:\\Users\\Lenovo\\.flair\\models\\sentiment-en-mix-distillbert_4.pt\n"
     ]
    }
   ],
   "source": [
    "# import\n",
    "import pandas as pd\n",
    "import numpy as np\n",
    "\n",
    "import matplotlib.pyplot as plt\n",
    "import seaborn as sns\n",
    "import matplotlib as mpl\n",
    "\n",
    "import warnings\n",
    "warnings.filterwarnings(\"ignore\")\n",
    "\n",
    "from sklearn.preprocessing import LabelEncoder\n",
    "\n",
    "import flair\n",
    "flair_sentiment = flair.models.TextClassifier.load('en-sentiment')"
   ]
  },
  {
   "cell_type": "markdown",
   "id": "2ab554bd",
   "metadata": {},
   "source": [
    "# ------------------------------------Functions------------------------------------"
   ]
  },
  {
   "cell_type": "markdown",
   "id": "d66eb94e",
   "metadata": {},
   "source": [
    "### 1. Sentiment score"
   ]
  },
  {
   "cell_type": "markdown",
   "id": "d0d96bb7",
   "metadata": {},
   "source": [
    "Use the pytorch flair (a sentimental analysis pakage) to determine how positive the text response is.  \n",
    "<br>\n",
    "1 is very positive and -1 is very negative"
   ]
  },
  {
   "cell_type": "code",
   "execution_count": 2,
   "id": "5c811d2d",
   "metadata": {},
   "outputs": [],
   "source": [
    "def sentiment_score(sentence):\n",
    "    \n",
    "    # sentimental analysis using flair\n",
    "    s = flair.data.Sentence(sentence)\n",
    "    flair_sentiment.predict(s)\n",
    "    total_sentiment = s.labels\n",
    "    \n",
    "    \n",
    "    # obtain the score from the prediction result\n",
    "    ind = str(total_sentiment[0]).find(\" \")\n",
    "    num = float(str(total_sentiment[0])[ind+2:-1])\n",
    "\n",
    "    # add a negative sign for regative predictions\n",
    "    if \"NEGATIVE\" in str(total_sentiment[0]):\n",
    "        num = 0 - num\n",
    "        \n",
    "    return num\n"
   ]
  },
  {
   "cell_type": "markdown",
   "id": "d6c5fdfe",
   "metadata": {},
   "source": [
    "###  2. Print the classification evaluation¶"
   ]
  },
  {
   "cell_type": "code",
   "execution_count": 3,
   "id": "845b8464",
   "metadata": {},
   "outputs": [],
   "source": [
    "from sklearn.metrics import classification_report\n",
    "from sklearn.model_selection import cross_val_score\n",
    "\n",
    "def print_evaluate(classifier, y_test, prediction):  \n",
    "    scores_accuracy = cross_val_score(classifier, x_df, y_df, cv=10, scoring='accuracy')\n",
    "    scores_f1 = cross_val_score(classifier, x_df, y_df, cv=10, scoring='f1_macro')\n",
    "    print('K-fold cross-validation results:')\n",
    "    print(classifier.__class__.__name__+\" average accuracy is %2.3f\" % scores_accuracy.mean())\n",
    "    print(classifier.__class__.__name__+\" average f1 is %2.3f\" % scores_f1.mean())\n",
    "    print('Classification report: ')\n",
    "    print(classification_report(y_test, prediction))\n",
    "    "
   ]
  },
  {
   "cell_type": "markdown",
   "id": "f95706c8",
   "metadata": {},
   "source": [
    "### 3. Plot the ROC curve"
   ]
  },
  {
   "cell_type": "code",
   "execution_count": 4,
   "id": "5265bf7f",
   "metadata": {},
   "outputs": [],
   "source": [
    "from sklearn.metrics import roc_curve, auc\n",
    "def plot_auc(y_test, prediction):\n",
    "    [fpr, tpr, thr] = roc_curve(y_test, prediction)\n",
    "    idx = np.min(np.where(tpr > 0.8))\n",
    "    plt.figure()\n",
    "    plt.plot(fpr, tpr, color='coral', label='ROC curve (area = %0.3f)' % auc(fpr, tpr))\n",
    "    plt.plot([0, 1], [0, 1], 'k--')\n",
    "    plt.plot([0,fpr[idx]], [tpr[idx],tpr[idx]], 'k--', color='blue')\n",
    "    plt.plot([fpr[idx],fpr[idx]], [0,tpr[idx]], 'k--', color='blue')\n",
    "    plt.xlim([0.0, 1.0])\n",
    "    plt.ylim([0.0, 1.05])\n",
    "    plt.xlabel('False Positive Rate (1 - specificity)', fontsize=14)\n",
    "    plt.ylabel('True Positive Rate (recall)', fontsize=14)\n",
    "    plt.title('Receiver operating characteristic (ROC) curve')\n",
    "    plt.legend(loc=\"lower right\")\n",
    "    plt.show()\n",
    "    "
   ]
  },
  {
   "cell_type": "markdown",
   "id": "cb337626",
   "metadata": {},
   "source": [
    "# ---------------------------------------Data preprocessing---------------------------------------"
   ]
  },
  {
   "cell_type": "markdown",
   "id": "44115af4",
   "metadata": {},
   "source": [
    "##### 1. Read file"
   ]
  },
  {
   "cell_type": "code",
   "execution_count": 5,
   "id": "91b5ad04",
   "metadata": {},
   "outputs": [
    {
     "data": {
      "text/html": [
       "<div>\n",
       "<style scoped>\n",
       "    .dataframe tbody tr th:only-of-type {\n",
       "        vertical-align: middle;\n",
       "    }\n",
       "\n",
       "    .dataframe tbody tr th {\n",
       "        vertical-align: top;\n",
       "    }\n",
       "\n",
       "    .dataframe thead th {\n",
       "        text-align: right;\n",
       "    }\n",
       "</style>\n",
       "<table border=\"1\" class=\"dataframe\">\n",
       "  <thead>\n",
       "    <tr style=\"text-align: right;\">\n",
       "      <th></th>\n",
       "      <th>_id</th>\n",
       "      <th>MCQ_A10</th>\n",
       "      <th>MCQ_A11</th>\n",
       "      <th>MCQ_A13</th>\n",
       "      <th>MCQ_A14</th>\n",
       "      <th>MCQ_A15</th>\n",
       "      <th>MCQ_A18</th>\n",
       "      <th>MCQ_A2</th>\n",
       "      <th>MCQ_A20</th>\n",
       "      <th>MCQ_B7</th>\n",
       "      <th>...</th>\n",
       "      <th>MCQ_B85</th>\n",
       "      <th>MCQ_B89</th>\n",
       "      <th>MCQ_B90</th>\n",
       "      <th>MCQ_B91</th>\n",
       "      <th>MCQ_B95</th>\n",
       "      <th>MCQ_B98</th>\n",
       "      <th>job_family</th>\n",
       "      <th>gender</th>\n",
       "      <th>selected</th>\n",
       "      <th>text_response</th>\n",
       "    </tr>\n",
       "  </thead>\n",
       "  <tbody>\n",
       "    <tr>\n",
       "      <th>0</th>\n",
       "      <td>5c76d8471367c00100f89d6b</td>\n",
       "      <td>4</td>\n",
       "      <td>2</td>\n",
       "      <td>1</td>\n",
       "      <td>2</td>\n",
       "      <td>4</td>\n",
       "      <td>3</td>\n",
       "      <td>2</td>\n",
       "      <td>4</td>\n",
       "      <td>5</td>\n",
       "      <td>...</td>\n",
       "      <td>3</td>\n",
       "      <td>2</td>\n",
       "      <td>3</td>\n",
       "      <td>5</td>\n",
       "      <td>3</td>\n",
       "      <td>3</td>\n",
       "      <td>Sales</td>\n",
       "      <td>female</td>\n",
       "      <td>1</td>\n",
       "      <td>'Shroud Shifter dude if I want to know the sec...</td>\n",
       "    </tr>\n",
       "    <tr>\n",
       "      <th>1</th>\n",
       "      <td>5bcfc7ad662dbc01002f3d0a</td>\n",
       "      <td>3</td>\n",
       "      <td>2</td>\n",
       "      <td>4</td>\n",
       "      <td>1</td>\n",
       "      <td>5</td>\n",
       "      <td>3</td>\n",
       "      <td>2</td>\n",
       "      <td>3</td>\n",
       "      <td>4</td>\n",
       "      <td>...</td>\n",
       "      <td>2</td>\n",
       "      <td>2</td>\n",
       "      <td>3</td>\n",
       "      <td>5</td>\n",
       "      <td>4</td>\n",
       "      <td>3</td>\n",
       "      <td>Retail</td>\n",
       "      <td>male</td>\n",
       "      <td>-1</td>\n",
       "      <td>'ESTP for Chloe is a very stereotyped typing. ...</td>\n",
       "    </tr>\n",
       "    <tr>\n",
       "      <th>2</th>\n",
       "      <td>5bdbc2b947d80d010012d488</td>\n",
       "      <td>4</td>\n",
       "      <td>1</td>\n",
       "      <td>1</td>\n",
       "      <td>1</td>\n",
       "      <td>4</td>\n",
       "      <td>4</td>\n",
       "      <td>2</td>\n",
       "      <td>2</td>\n",
       "      <td>5</td>\n",
       "      <td>...</td>\n",
       "      <td>1</td>\n",
       "      <td>2</td>\n",
       "      <td>3</td>\n",
       "      <td>4</td>\n",
       "      <td>2</td>\n",
       "      <td>3</td>\n",
       "      <td>CallCentre</td>\n",
       "      <td>male</td>\n",
       "      <td>-1</td>\n",
       "      <td>'become a stylist|||i trapped a giant house sp...</td>\n",
       "    </tr>\n",
       "    <tr>\n",
       "      <th>3</th>\n",
       "      <td>5c475f81e8a6aa01008f2cfb</td>\n",
       "      <td>4</td>\n",
       "      <td>1</td>\n",
       "      <td>2</td>\n",
       "      <td>1</td>\n",
       "      <td>5</td>\n",
       "      <td>2</td>\n",
       "      <td>1</td>\n",
       "      <td>3</td>\n",
       "      <td>4</td>\n",
       "      <td>...</td>\n",
       "      <td>2</td>\n",
       "      <td>2</td>\n",
       "      <td>4</td>\n",
       "      <td>5</td>\n",
       "      <td>4</td>\n",
       "      <td>4</td>\n",
       "      <td>Sales</td>\n",
       "      <td>male</td>\n",
       "      <td>-1</td>\n",
       "      <td>'Thank you for everyone's advice. I'll try to ...</td>\n",
       "    </tr>\n",
       "    <tr>\n",
       "      <th>4</th>\n",
       "      <td>5c75a5884c8e7a0100129667</td>\n",
       "      <td>5</td>\n",
       "      <td>5</td>\n",
       "      <td>1</td>\n",
       "      <td>4</td>\n",
       "      <td>5</td>\n",
       "      <td>3</td>\n",
       "      <td>1</td>\n",
       "      <td>4</td>\n",
       "      <td>4</td>\n",
       "      <td>...</td>\n",
       "      <td>4</td>\n",
       "      <td>2</td>\n",
       "      <td>3</td>\n",
       "      <td>5</td>\n",
       "      <td>5</td>\n",
       "      <td>3</td>\n",
       "      <td>Sales</td>\n",
       "      <td>male</td>\n",
       "      <td>-1</td>\n",
       "      <td>'http://www.youtube.com/watch?v=8UVNT4wvIGY|||...</td>\n",
       "    </tr>\n",
       "  </tbody>\n",
       "</table>\n",
       "<p>5 rows × 25 columns</p>\n",
       "</div>"
      ],
      "text/plain": [
       "                        _id  MCQ_A10  MCQ_A11  MCQ_A13  MCQ_A14  MCQ_A15  \\\n",
       "0  5c76d8471367c00100f89d6b        4        2        1        2        4   \n",
       "1  5bcfc7ad662dbc01002f3d0a        3        2        4        1        5   \n",
       "2  5bdbc2b947d80d010012d488        4        1        1        1        4   \n",
       "3  5c475f81e8a6aa01008f2cfb        4        1        2        1        5   \n",
       "4  5c75a5884c8e7a0100129667        5        5        1        4        5   \n",
       "\n",
       "   MCQ_A18  MCQ_A2  MCQ_A20  MCQ_B7  ...  MCQ_B85  MCQ_B89  MCQ_B90  MCQ_B91  \\\n",
       "0        3       2        4       5  ...        3        2        3        5   \n",
       "1        3       2        3       4  ...        2        2        3        5   \n",
       "2        4       2        2       5  ...        1        2        3        4   \n",
       "3        2       1        3       4  ...        2        2        4        5   \n",
       "4        3       1        4       4  ...        4        2        3        5   \n",
       "\n",
       "   MCQ_B95  MCQ_B98  job_family  gender  selected  \\\n",
       "0        3        3       Sales  female         1   \n",
       "1        4        3      Retail    male        -1   \n",
       "2        2        3  CallCentre    male        -1   \n",
       "3        4        4       Sales    male        -1   \n",
       "4        5        3       Sales    male        -1   \n",
       "\n",
       "                                       text_response  \n",
       "0  'Shroud Shifter dude if I want to know the sec...  \n",
       "1  'ESTP for Chloe is a very stereotyped typing. ...  \n",
       "2  'become a stylist|||i trapped a giant house sp...  \n",
       "3  'Thank you for everyone's advice. I'll try to ...  \n",
       "4  'http://www.youtube.com/watch?v=8UVNT4wvIGY|||...  \n",
       "\n",
       "[5 rows x 25 columns]"
      ]
     },
     "execution_count": 5,
     "metadata": {},
     "output_type": "execute_result"
    }
   ],
   "source": [
    "file_name = 'sample_dataset.csv'\n",
    "df = pd.read_csv(file_name)\n",
    "df.head()"
   ]
  },
  {
   "cell_type": "markdown",
   "id": "2cb004fe",
   "metadata": {},
   "source": [
    "###### As we can see, there are missing data (i.e., NaN), unavailable data (selected equals to -1), and machine unreadable data (text_response). \n",
    "- We need to remove the rows that contains NaN values. An alternative approach is to make reasonable assumption about the missing data (data imputation). However, the number of missing data in our case is a bit high so I choose to eliminate them.  \n",
    "- Selected equals to -1 means the data is unavailable, therefore we need to eliminate or replace them. Here I choose to eliminate them.\n",
    "- We need to translate the text to machine readable formats. Here I use a simple sentimental analysis to determine if the text positive or negative. A better way is to investigate in different aspects, such as confidence level, grammatical correctness, passion level, etc. "
   ]
  },
  {
   "cell_type": "markdown",
   "id": "1ecbe7ca",
   "metadata": {},
   "source": [
    "##### 2. Count NaN values for each feature"
   ]
  },
  {
   "cell_type": "code",
   "execution_count": 6,
   "id": "27f894f8",
   "metadata": {},
   "outputs": [
    {
     "data": {
      "text/plain": [
       "_id                0\n",
       "MCQ_A10            0\n",
       "MCQ_A11            0\n",
       "MCQ_A13            0\n",
       "MCQ_A14            0\n",
       "MCQ_A15            0\n",
       "MCQ_A18            0\n",
       "MCQ_A2             0\n",
       "MCQ_A20            0\n",
       "MCQ_B7             0\n",
       "MCQ_B76            0\n",
       "MCQ_B78            0\n",
       "MCQ_B79            0\n",
       "MCQ_B8             0\n",
       "MCQ_B82            0\n",
       "MCQ_B85            0\n",
       "MCQ_B89            0\n",
       "MCQ_B90            0\n",
       "MCQ_B91            0\n",
       "MCQ_B95            0\n",
       "MCQ_B98            0\n",
       "job_family         0\n",
       "gender           417\n",
       "selected           0\n",
       "text_response      0\n",
       "dtype: int64"
      ]
     },
     "execution_count": 6,
     "metadata": {},
     "output_type": "execute_result"
    }
   ],
   "source": [
    "df.isna().sum()"
   ]
  },
  {
   "cell_type": "markdown",
   "id": "da9d0837",
   "metadata": {},
   "source": [
    "##### 3. Drop rows that contains NaN and drop \"ID\""
   ]
  },
  {
   "cell_type": "code",
   "execution_count": 7,
   "id": "22383c4c",
   "metadata": {},
   "outputs": [
    {
     "name": "stderr",
     "output_type": "stream",
     "text": [
      "I0812 22:53:38.040764  1988 utils.py:157] NumExpr defaulting to 8 threads.\n"
     ]
    }
   ],
   "source": [
    "df.dropna(axis=0, inplace=True)\n",
    "df.drop(['_id'], axis=1, inplace=True)"
   ]
  },
  {
   "cell_type": "markdown",
   "id": "ef3a2fe2",
   "metadata": {},
   "source": [
    "##### 4. Count how many instances that \"selected\" equals to 0, 1, -1 respectively."
   ]
  },
  {
   "cell_type": "code",
   "execution_count": 8,
   "id": "763b1d37",
   "metadata": {},
   "outputs": [],
   "source": [
    "select0 = df[df[\"selected\"]==0].count()['selected']\n",
    "select1 = df[df[\"selected\"]==1].count()['selected']\n",
    "select_minus1 = df[df[\"selected\"]==-1].count()['selected']"
   ]
  },
  {
   "cell_type": "code",
   "execution_count": 9,
   "id": "0a3ebcdb",
   "metadata": {},
   "outputs": [
    {
     "data": {
      "text/html": [
       "<div>\n",
       "<style scoped>\n",
       "    .dataframe tbody tr th:only-of-type {\n",
       "        vertical-align: middle;\n",
       "    }\n",
       "\n",
       "    .dataframe tbody tr th {\n",
       "        vertical-align: top;\n",
       "    }\n",
       "\n",
       "    .dataframe thead th {\n",
       "        text-align: right;\n",
       "    }\n",
       "</style>\n",
       "<table border=\"1\" class=\"dataframe\">\n",
       "  <thead>\n",
       "    <tr style=\"text-align: right;\">\n",
       "      <th></th>\n",
       "      <th>Select</th>\n",
       "      <th>0</th>\n",
       "      <th>1</th>\n",
       "      <th>-1</th>\n",
       "    </tr>\n",
       "  </thead>\n",
       "  <tbody>\n",
       "    <tr>\n",
       "      <th>0</th>\n",
       "      <td>Count</td>\n",
       "      <td>749</td>\n",
       "      <td>582</td>\n",
       "      <td>1252</td>\n",
       "    </tr>\n",
       "  </tbody>\n",
       "</table>\n",
       "</div>"
      ],
      "text/plain": [
       "  Select    0    1    -1\n",
       "0  Count  749  582  1252"
      ]
     },
     "execution_count": 9,
     "metadata": {},
     "output_type": "execute_result"
    }
   ],
   "source": [
    "evaluate_df = pd.DataFrame(data=[[\"Count\", select0,select1,select_minus1]], \n",
    "                          columns=['Select', '0', '1', '-1'])\n",
    "evaluate_df"
   ]
  },
  {
   "cell_type": "markdown",
   "id": "4bab4292",
   "metadata": {},
   "source": [
    "As we can see, a large portion of the data are unavailable. Therefore we choose to eliminate them."
   ]
  },
  {
   "cell_type": "markdown",
   "id": "e03d3040",
   "metadata": {},
   "source": [
    "##### 5. Remove the instances that \"selected\" equals to -1, because it indicates when the information is not available"
   ]
  },
  {
   "cell_type": "code",
   "execution_count": 10,
   "id": "d7324b7a",
   "metadata": {},
   "outputs": [],
   "source": [
    "df = df[df[\"selected\"]!=-1]"
   ]
  },
  {
   "cell_type": "markdown",
   "id": "436a1a70",
   "metadata": {},
   "source": [
    "##### 6. Apply sentimental analysis on the \"text_response\" column. The resulted values range from -1 to 1, where -1 is very negative and 1 is very positive."
   ]
  },
  {
   "cell_type": "code",
   "execution_count": 11,
   "id": "03bfae33",
   "metadata": {},
   "outputs": [],
   "source": [
    "df[\"text_response\"] = df[\"text_response\"].apply(sentiment_score)"
   ]
  },
  {
   "cell_type": "markdown",
   "id": "7658a0d9",
   "metadata": {},
   "source": [
    "# ---------------------------------------------Result---------------------------------------------"
   ]
  },
  {
   "cell_type": "markdown",
   "id": "9083f163",
   "metadata": {},
   "source": [
    "### 1. Preparation"
   ]
  },
  {
   "cell_type": "markdown",
   "id": "cbede009",
   "metadata": {},
   "source": [
    "##### 1.1. Label encoder"
   ]
  },
  {
   "cell_type": "code",
   "execution_count": 12,
   "id": "8f6abf1c",
   "metadata": {},
   "outputs": [],
   "source": [
    "df[[\"job_family\", \"gender\"]] = df[[\"job_family\", \"gender\"]].apply(LabelEncoder().fit_transform)"
   ]
  },
  {
   "cell_type": "markdown",
   "id": "f42768b1",
   "metadata": {},
   "source": [
    "##### 1.2 Prepare x, y labels for classification"
   ]
  },
  {
   "cell_type": "code",
   "execution_count": 13,
   "id": "97576887",
   "metadata": {},
   "outputs": [],
   "source": [
    "x_df = df.drop('selected', axis = 1)\n",
    "y_df = df['selected']"
   ]
  },
  {
   "cell_type": "markdown",
   "id": "b5d4c7ea",
   "metadata": {},
   "source": [
    "##### 1.3 Normalise the data"
   ]
  },
  {
   "cell_type": "markdown",
   "id": "1d637a41",
   "metadata": {},
   "source": [
    "Note that this step is not essential for tree based classifiers."
   ]
  },
  {
   "cell_type": "code",
   "execution_count": 14,
   "id": "ae896944",
   "metadata": {},
   "outputs": [
    {
     "data": {
      "text/plain": [
       "array([[7.5000e-01, 2.5000e-01, 0.0000e+00, ..., 1.0000e+00, 0.0000e+00,\n",
       "        0.0000e+00],\n",
       "       [1.0000e+00, 2.5000e-01, 2.5000e-01, ..., 1.0000e+00, 0.0000e+00,\n",
       "        3.9350e-02],\n",
       "       [7.5000e-01, 5.0000e-01, 2.5000e-01, ..., 5.0000e-01, 1.0000e+00,\n",
       "        0.0000e+00],\n",
       "       ...,\n",
       "       [1.0000e+00, 2.5000e-01, 0.0000e+00, ..., 1.0000e+00, 1.0000e+00,\n",
       "        9.9835e-01],\n",
       "       [7.5000e-01, 2.5000e-01, 1.0000e+00, ..., 1.0000e+00, 1.0000e+00,\n",
       "        5.0000e-05],\n",
       "       [5.0000e-01, 2.5000e-01, 0.0000e+00, ..., 5.0000e-01, 1.0000e+00,\n",
       "        3.4450e-02]])"
      ]
     },
     "execution_count": 14,
     "metadata": {},
     "output_type": "execute_result"
    }
   ],
   "source": [
    "from sklearn.preprocessing import MinMaxScaler\n",
    "\n",
    "scaler = MinMaxScaler()\n",
    "scaler.fit(x_df)\n",
    "scaler.transform(x_df)"
   ]
  },
  {
   "cell_type": "markdown",
   "id": "86c8f719",
   "metadata": {},
   "source": [
    "##### 1.4 Perform train test split"
   ]
  },
  {
   "cell_type": "code",
   "execution_count": 15,
   "id": "10052650",
   "metadata": {},
   "outputs": [],
   "source": [
    "from sklearn.model_selection import train_test_split\n",
    "\n",
    "X_train, X_test, y_train, y_test = train_test_split(x_df, y_df, test_size=0.2, random_state=15)"
   ]
  },
  {
   "cell_type": "markdown",
   "id": "7f4507fa",
   "metadata": {},
   "source": [
    "### 2. Perform classification and evaluate the result"
   ]
  },
  {
   "cell_type": "markdown",
   "id": "75648fe4",
   "metadata": {},
   "source": [
    "##### 2.1. Create a gradient boost classifier"
   ]
  },
  {
   "cell_type": "code",
   "execution_count": 16,
   "id": "1c5857d5",
   "metadata": {},
   "outputs": [],
   "source": [
    "from sklearn.ensemble import GradientBoostingClassifier\n",
    "\n",
    "gbc = GradientBoostingClassifier()\n",
    "gbc.fit(X_train,y_train)\n",
    "\n",
    "gbc_prediction = gbc.predict(X_test)"
   ]
  },
  {
   "cell_type": "markdown",
   "id": "e34a2e3b",
   "metadata": {},
   "source": [
    "##### Note: the performance can be improved by parameter tunning, but it would take too much time. A better approach is to use GridSearchCV to exhaustive search over specified parameter values for the estimator. The commented code is shown below."
   ]
  },
  {
   "cell_type": "code",
   "execution_count": 17,
   "id": "6a46f124",
   "metadata": {},
   "outputs": [
    {
     "data": {
      "text/plain": [
       "\"\\nfrom sklearn.model_selection import GridSearchCV\\nfrom sklearn.ensemble import GradientBoostingClassifier\\n\\n\\n# Create the parameter grid based on the results of random search \\nparam_grid = {'n_estimators':[100, 200, 300,500], \\n            'learning_rate': [0.1,0.05,0.02],\\n            'max_depth':[4], \\n            'min_samples_leaf':[3], \\n            'max_features':[1.0] } \\n            \\n# Create a based model\\ngbc = GradientBoostingClassifier()\\n\\n# Instantiate the grid search model\\ngrid_search = GridSearchCV(estimator = gbc, param_grid = param_grid, \\n                          cv = 3, n_jobs = -1, verbose = 2)\\n                          \\n                          \\n# Fit the grid search to the data\\ngrid_search.fit(X_train,y_train)\\ngrid_search.best_params_\\n\\n\""
      ]
     },
     "execution_count": 17,
     "metadata": {},
     "output_type": "execute_result"
    }
   ],
   "source": [
    "\"\"\"\n",
    "from sklearn.model_selection import GridSearchCV\n",
    "from sklearn.ensemble import GradientBoostingClassifier\n",
    "\n",
    "\n",
    "# Create the parameter grid based on the results of random search \n",
    "param_grid = {'n_estimators':[100, 200, 300,500], \n",
    "            'learning_rate': [0.1,0.05,0.02],\n",
    "            'max_depth':[4], \n",
    "            'min_samples_leaf':[3], \n",
    "            'max_features':[1.0] } \n",
    "            \n",
    "# Create a based model\n",
    "gbc = GradientBoostingClassifier()\n",
    "\n",
    "# Instantiate the grid search model\n",
    "grid_search = GridSearchCV(estimator = gbc, param_grid = param_grid, \n",
    "                          cv = 3, n_jobs = -1, verbose = 2)\n",
    "                          \n",
    "                          \n",
    "# Fit the grid search to the data\n",
    "grid_search.fit(X_train,y_train)\n",
    "grid_search.best_params_\n",
    "\n",
    "\"\"\""
   ]
  },
  {
   "cell_type": "markdown",
   "id": "ddcab5bb",
   "metadata": {},
   "source": [
    "##### 2.2 Print evaluation"
   ]
  },
  {
   "cell_type": "code",
   "execution_count": 18,
   "id": "281b7e12",
   "metadata": {},
   "outputs": [
    {
     "name": "stdout",
     "output_type": "stream",
     "text": [
      "K-fold cross-validation results:\n",
      "GradientBoostingClassifier average accuracy is 0.598\n",
      "GradientBoostingClassifier average f1 is 0.577\n",
      "Classification report: \n",
      "              precision    recall  f1-score   support\n",
      "\n",
      "           0       0.52      0.67      0.59       130\n",
      "           1       0.57      0.42      0.48       137\n",
      "\n",
      "    accuracy                           0.54       267\n",
      "   macro avg       0.55      0.54      0.53       267\n",
      "weighted avg       0.55      0.54      0.53       267\n",
      "\n"
     ]
    }
   ],
   "source": [
    "print_evaluate(gbc, y_test, gbc_prediction)"
   ]
  },
  {
   "cell_type": "markdown",
   "id": "ee73954d",
   "metadata": {},
   "source": [
    "##### 2.3. Evaluate the importance of features"
   ]
  },
  {
   "cell_type": "code",
   "execution_count": 19,
   "id": "168393cc",
   "metadata": {},
   "outputs": [
    {
     "data": {
      "text/plain": [
       "<AxesSubplot:>"
      ]
     },
     "execution_count": 19,
     "metadata": {},
     "output_type": "execute_result"
    },
    {
     "data": {
      "image/png": "[encoded data removed]",
      "text/plain": [
       "<Figure size 576x432 with 1 Axes>"
      ]
     },
     "metadata": {
      "needs_background": "light"
     },
     "output_type": "display_data"
    }
   ],
   "source": [
    "plt.figure(figsize=(8,6))\n",
    "importance = gbc.feature_importances_\n",
    "sns.barplot(x=importance, y=x_df.columns)"
   ]
  },
  {
   "cell_type": "markdown",
   "id": "456da5a3",
   "metadata": {},
   "source": [
    "##### 2.4 Print the ROC curve"
   ]
  },
  {
   "cell_type": "code",
   "execution_count": 20,
   "id": "49056263",
   "metadata": {},
   "outputs": [
    {
     "data": {
      "image/png": "[encoded data removed]",
      "text/plain": [
       "<Figure size 432x288 with 1 Axes>"
      ]
     },
     "metadata": {
      "needs_background": "light"
     },
     "output_type": "display_data"
    }
   ],
   "source": [
    "plot_auc(y_test, gbc_prediction)"
   ]
  },
  {
   "cell_type": "markdown",
   "id": "0dfda7bf",
   "metadata": {},
   "source": [
    "##### 2.5 Print the partial dependency plots for every feature"
   ]
  },
  {
   "cell_type": "code",
   "execution_count": 21,
   "id": "79944853",
   "metadata": {},
   "outputs": [
    {
     "data": {
      "image/png": "[encoded data removed]",
      "text/plain": [
       "<Figure size 720x1800 with 24 Axes>"
      ]
     },
     "metadata": {
      "needs_background": "light"
     },
     "output_type": "display_data"
    }
   ],
   "source": [
    "from sklearn.inspection import plot_partial_dependence\n",
    "# features = [\"gender\", \"text_response\"]\n",
    "features = [i for i in range(0,23)]\n",
    "\n",
    "fig, ax = plt.subplots(figsize=(10, 25))\n",
    "plot_partial_dependence(gbc, X_train, features, ax=ax) \n",
    "fig.tight_layout()\n"
   ]
  },
  {
   "cell_type": "markdown",
   "id": "ea3c94cc",
   "metadata": {},
   "source": [
    "# ---------------------------------------Conclusion---------------------------------------"
   ]
  },
  {
   "cell_type": "markdown",
   "id": "fc6bba67",
   "metadata": {},
   "source": [
    "In this classification challenge, I choose the gradient boosting classifer to perform the binary classification problem. Alternative solutions include but not limited to logistic regression, KNN, SVM, and DNN. The reason I choose a tree based approach is because the dataset we are using has a large amount of features, and decision tree can clearly tell the importance of these features.  "
   ]
  },
  {
   "cell_type": "markdown",
   "id": "3b8dc205",
   "metadata": {},
   "source": [
    "##### 1. Performance"
   ]
  },
  {
   "cell_type": "markdown",
   "id": "3be19db9",
   "metadata": {},
   "source": [
    "The gradient boosting classifier can achieve an average F1 score of 0.580. This can be improved by using parameter tunning, or using other models such as XGBOOST (it will take longer time so I choose Gradient boosting classifier)."
   ]
  },
  {
   "cell_type": "markdown",
   "id": "c16dc089",
   "metadata": {},
   "source": [
    "##### 2. Fairness"
   ]
  },
  {
   "cell_type": "markdown",
   "id": "f44cc79a",
   "metadata": {},
   "source": [
    "The prediction result shows that it is treating male and female candidates relatively fair. This can be shown in two aspects:\n",
    "- The feature importance diagram shows that \"gender\" has a lower importance compared to other features\n",
    "- In the partial dependency plot of \"gender\", we can see that the difference between male and female is negligible"
   ]
  },
  {
   "cell_type": "markdown",
   "id": "bda4977a",
   "metadata": {},
   "source": [
    "##### 3. Explainability"
   ]
  },
  {
   "cell_type": "markdown",
   "id": "e458b1a8",
   "metadata": {},
   "source": [
    "- The feature importance diagram shows that text_response and job_family are the two most important features to predict \"selected\"\n",
    "- From the partial dependency plots, we can clearly see which value contributes more to the decision for each feature\n",
    "- Our model is slightly more sensitive to negative texts compared to positive texts"
   ]
  },
  {
   "cell_type": "code",
   "execution_count": null,
   "id": "fe00564a",
   "metadata": {},
   "outputs": [],
   "source": []
  }
 ],
 "metadata": {
  "kernelspec": {
   "display_name": "Python 3",
   "language": "python",
   "name": "python3"
  },
  "language_info": {
   "codemirror_mode": {
    "name": "ipython",
    "version": 3
   },
   "file_extension": ".py",
   "mimetype": "text/x-python",
   "name": "python",
   "nbconvert_exporter": "python",
   "pygments_lexer": "ipython3",
   "version": "3.6.13"
  }
 },
 "nbformat": 4,
 "nbformat_minor": 5
}
